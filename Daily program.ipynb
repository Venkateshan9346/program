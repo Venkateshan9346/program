{
  "nbformat": 4,
  "nbformat_minor": 0,
  "metadata": {
    "colab": {
      "provenance": [],
      "authorship_tag": "ABX9TyPNlgRmGkeSbYO2N1UUTFzZ",
      "include_colab_link": true
    },
    "kernelspec": {
      "name": "python3",
      "display_name": "Python 3"
    },
    "language_info": {
      "name": "python"
    }
  },
  "cells": [
    {
      "cell_type": "markdown",
      "metadata": {
        "id": "view-in-github",
        "colab_type": "text"
      },
      "source": [
        "<a href=\"https://colab.research.google.com/github/Venkateshan9346/program/blob/main/Daily%20program.ipynb\" target=\"_parent\"><img src=\"https://colab.research.google.com/assets/colab-badge.svg\" alt=\"Open In Colab\"/></a>"
      ]
    },
    {
      "cell_type": "markdown",
      "source": [
        "\n",
        "\n",
        "you are given with array of numbers.you have to find whether array is beautiful or not. A beautiful array is an array whose sum of all numbers is divisible by\n",
        "\n",
        "2, 3 and 5\n",
        "\n",
        "Input Description:\n",
        "\n",
        "You are given a number ‘n’ denoting the size of array.Next line contains n space separated numbers.\n",
        "\n",
        "Output Description:\n",
        "\n",
        "Print 1 if array is beautiful and 0 if it is not\n",
        "\n",
        "Sample Input :\n",
        "\n",
        "5\n",
        "\n",
        "5 25 35 -5 30\n",
        "\n",
        "Sample Output :\n",
        "\n",
        "1\n"
      ],
      "metadata": {
        "id": "rUJkISBjQsMW"
      }
    },
    {
      "cell_type": "code",
      "execution_count": null,
      "metadata": {
        "id": "kl0eju7aQo2Y"
      },
      "outputs": [],
      "source": [
        "n=int(input())\n",
        "sum=sum(map(int,input().split()[:n]))\n",
        "if sum%2==0 and sum%3==0 and sum%5==0:\n",
        "  print(1)\n",
        "else:\n",
        "  print(0)"
      ]
    },
    {
      "cell_type": "markdown",
      "source": [
        "You are given an array of non-negative integers representing height of walls at index i as Ai and the width of each block is 1. Compute how much air can be encapsulated between the walls of chamber.\n",
        "\n",
        "\n",
        "\n",
        "\n",
        "Input Description:\n",
        "Each line contains an integer ‘N’ denoting the size of the array Next line contains N space separated numbers to be stored in array.\n",
        "\n",
        "Output Description:\n",
        "Output the total unit of Air encapsulated between the walls of chamber.\n",
        "\n",
        "\n",
        "Sample Input :\n",
        "\n",
        "3\n",
        "\n",
        "7 4 9\n",
        "\n",
        "Sample Output :\n",
        "\n",
        "3"
      ],
      "metadata": {
        "id": "Jw55IsfCQ2RV"
      }
    },
    {
      "cell_type": "code",
      "source": [
        "def cal(n,heig):\n",
        "  lef=[0]*n\n",
        "  rig=[0]*n\n",
        "\n",
        "  lef[0]=heig[0]\n",
        "  for i in range(1,n):\n",
        "    lef[i]=max(lef[i-1],heig[i])\n",
        "\n",
        "  rig[n-1]=heig[n-1]\n",
        "  for i in range(n-2,-1,-1):\n",
        "    rig[i]=max(rig[i+1],heig[i])\n",
        "\n",
        "  totair=0\n",
        "  for i in range(n):\n",
        "    air=max(0,min(lef[i],rig[i])-heig[i])\n",
        "    totair+=air\n",
        "  return totair\n",
        "\n",
        "n=int(input())\n",
        "heig=list(map(int,input().split()))\n",
        "cal(n,heig)"
      ],
      "metadata": {
        "id": "t-ohO8oCQ5Ct"
      },
      "execution_count": null,
      "outputs": []
    },
    {
      "cell_type": "markdown",
      "source": [
        "You are given an array of ids of prisoners. The jail authority found that there are some prisoners of same id. Your task is to help the authority in finding the common ids.\n",
        "\n",
        "\n",
        "Input Description:\n",
        "First line contains a number ‘n’ representing no of prisoners. Next line contains n space separated numbers.\n",
        "\n",
        "Output Description:\n",
        "Print the ids which are not unique. Print -1 if all ids are unique\n",
        "\n",
        "Sample Input :\n",
        "\n",
        "7\n",
        "\n",
        "1 1 11 121 131 141 98\n",
        "\n",
        "Sample Output :\n",
        "\n",
        "1"
      ],
      "metadata": {
        "id": "iiCUNC8jRAH9"
      }
    },
    {
      "cell_type": "code",
      "source": [
        "from collections import Counter\n",
        "n=int(input())\n",
        "poda=list(map(int,input().split()))\n",
        "\n",
        "po=Counter(poda)\n",
        "p=[id for id,count in po.items()if count>1]\n",
        "if p:\n",
        "    print(*p)\n",
        "else:\n",
        "    print(-1)"
      ],
      "metadata": {
        "id": "baH-nEFtQ_tF"
      },
      "execution_count": null,
      "outputs": []
    },
    {
      "cell_type": "markdown",
      "source": [
        "You are given an array. Your task is to sort the array in given manner. Print the elements in increasing order of the frequency. If frequency is same print smaller one first.\n",
        "\n",
        "\n",
        "Input Description:\n",
        "You are given a number ‘n’. Then in next line n space separated numbers.\n",
        "\n",
        "Output Description:\n",
        "Print the array as mentioned\n",
        "\n",
        "Sample Input :\n",
        "\n",
        "4\n",
        "\n",
        "1 1 3 2\n",
        "\n",
        "Sample Output :\n",
        "\n",
        "2 3 1"
      ],
      "metadata": {
        "id": "v5sEvyG4RPfF"
      }
    },
    {
      "cell_type": "code",
      "source": [
        "from collections import Counter\n",
        "\n",
        "n = int(input())\n",
        "arr = list(map(int, input().split()))\n",
        "\n",
        "freq = Counter(arr)\n",
        "\n",
        "sorted_elements = sorted(freq.keys(), key=lambda x: (freq[x], x))\n",
        "\n",
        "print(*sorted_elements)\n",
        ""
      ],
      "metadata": {
        "id": "l-JJoSDERPDN"
      },
      "execution_count": null,
      "outputs": []
    }
  ]
}